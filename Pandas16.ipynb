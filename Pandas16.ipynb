{
 "cells": [
  {
   "cell_type": "code",
   "execution_count": 1,
   "id": "c04d0d49-a65c-44d3-98b0-17a6510a17f1",
   "metadata": {},
   "outputs": [],
   "source": [
    "import pandas as pd"
   ]
  },
  {
   "cell_type": "code",
   "execution_count": 23,
   "id": "0622fba2-6795-45b0-b833-02cf623e8ec0",
   "metadata": {},
   "outputs": [
    {
     "data": {
      "text/plain": [
       "Period('2024', 'Y-DEC')"
      ]
     },
     "execution_count": 23,
     "metadata": {},
     "output_type": "execute_result"
    }
   ],
   "source": [
    "y=pd.Period('2024')\n",
    "y#creates a calendar of the mentioned year"
   ]
  },
  {
   "cell_type": "code",
   "execution_count": 24,
   "id": "969ad62b-3ab2-42a4-a081-c52f0594985d",
   "metadata": {},
   "outputs": [
    {
     "data": {
      "text/plain": [
       "Timestamp('2024-01-01 00:00:00')"
      ]
     },
     "execution_count": 24,
     "metadata": {},
     "output_type": "execute_result"
    }
   ],
   "source": [
    "y.start_time\n",
    "#Starting date of year"
   ]
  },
  {
   "cell_type": "code",
   "execution_count": 25,
   "id": "650392cf-250a-461d-9f91-4f7318eeac11",
   "metadata": {},
   "outputs": [
    {
     "data": {
      "text/plain": [
       "Timestamp('2024-12-31 23:59:59.999999999')"
      ]
     },
     "execution_count": 25,
     "metadata": {},
     "output_type": "execute_result"
    }
   ],
   "source": [
    "y.end_time\n",
    "#Ending date of year"
   ]
  },
  {
   "cell_type": "code",
   "execution_count": 26,
   "id": "ae94fe92-d859-48bf-baa1-0c06b0edbdc1",
   "metadata": {},
   "outputs": [
    {
     "data": {
      "text/plain": [
       "Period('2024-11', 'M')"
      ]
     },
     "execution_count": 26,
     "metadata": {},
     "output_type": "execute_result"
    }
   ],
   "source": [
    "m=pd.Period('2024-11')\n",
    "m#creates a specified month in a year"
   ]
  },
  {
   "cell_type": "code",
   "execution_count": 21,
   "id": "0627975c-ebb8-4a87-8381-aaa79ae073a1",
   "metadata": {},
   "outputs": [
    {
     "data": {
      "text/plain": [
       "Timestamp('2024-11-01 00:00:00')"
      ]
     },
     "execution_count": 21,
     "metadata": {},
     "output_type": "execute_result"
    }
   ],
   "source": [
    "m.start_time"
   ]
  },
  {
   "cell_type": "code",
   "execution_count": 22,
   "id": "65e67517-7bcc-4586-be3e-8672d9e7f3ca",
   "metadata": {},
   "outputs": [
    {
     "data": {
      "text/plain": [
       "Timestamp('2024-11-30 23:59:59.999999999')"
      ]
     },
     "execution_count": 22,
     "metadata": {},
     "output_type": "execute_result"
    }
   ],
   "source": [
    "m.end_time"
   ]
  },
  {
   "cell_type": "code",
   "execution_count": 28,
   "id": "68959180-5b1e-439a-bcc0-0a9d943f6ab2",
   "metadata": {},
   "outputs": [
    {
     "data": {
      "text/plain": [
       "Period('2024-12', 'M')"
      ]
     },
     "execution_count": 28,
     "metadata": {},
     "output_type": "execute_result"
    }
   ],
   "source": [
    "m+1\n",
    "#adds one month to the present month"
   ]
  },
  {
   "cell_type": "code",
   "execution_count": 32,
   "id": "99ff3566-0f13-48e4-b914-83af0035c081",
   "metadata": {},
   "outputs": [
    {
     "data": {
      "text/plain": [
       "Period('2024-11-05', 'D')"
      ]
     },
     "execution_count": 32,
     "metadata": {},
     "output_type": "execute_result"
    }
   ],
   "source": [
    "d=pd.Period('2024-11-05')\n",
    "d#creates a daily freq of the mentioned date"
   ]
  },
  {
   "cell_type": "code",
   "execution_count": 34,
   "id": "f728ade0-1030-4a12-bf8a-bc9922555996",
   "metadata": {},
   "outputs": [
    {
     "data": {
      "text/plain": [
       "Period('2024-11-06', 'D')"
      ]
     },
     "execution_count": 34,
     "metadata": {},
     "output_type": "execute_result"
    }
   ],
   "source": [
    "d+1#it checks for leap year also"
   ]
  },
  {
   "cell_type": "code",
   "execution_count": null,
   "id": "0a156d32-6215-43c2-abfc-58af3c315cea",
   "metadata": {},
   "outputs": [],
   "source": []
  }
 ],
 "metadata": {
  "kernelspec": {
   "display_name": "Python 3 (ipykernel)",
   "language": "python",
   "name": "python3"
  },
  "language_info": {
   "codemirror_mode": {
    "name": "ipython",
    "version": 3
   },
   "file_extension": ".py",
   "mimetype": "text/x-python",
   "name": "python",
   "nbconvert_exporter": "python",
   "pygments_lexer": "ipython3",
   "version": "3.12.3"
  }
 },
 "nbformat": 4,
 "nbformat_minor": 5
}
